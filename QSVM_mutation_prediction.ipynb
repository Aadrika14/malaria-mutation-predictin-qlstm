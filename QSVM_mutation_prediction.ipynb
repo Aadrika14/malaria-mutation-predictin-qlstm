{
 "cells": [
  {
   "cell_type": "code",
   "execution_count": 5,
   "id": "25c09990",
   "metadata": {},
   "outputs": [],
   "source": [
    "import pandas as pd\n",
    "import numpy as np\n",
    "from sklearn.model_selection import train_test_split\n",
    "from sklearn.preprocessing import MinMaxScaler\n",
    "from sklearn.svm import SVC\n",
    "import pennylane as qml\n"
   ]
  },
  {
   "cell_type": "code",
   "execution_count": 6,
   "id": "8c43d0a0",
   "metadata": {},
   "outputs": [],
   "source": [
    "# Load dataset\n",
    "df = pd.read_csv(\"final_combined_mutation_dataset.csv\")\n",
    "\n",
    "# Convert stringified lists into actual lists\n",
    "df[\"Encoded_Sequence\"] = df[\"Encoded_Sequence\"].apply(eval)\n",
    "\n",
    "# Truncate or pad to fixed length\n",
    "SEQ_LEN = 20\n",
    "def process_seq(seq):\n",
    "    if len(seq) >= SEQ_LEN:\n",
    "        return seq[:SEQ_LEN]\n",
    "    else:\n",
    "        return seq + [0] * (SEQ_LEN - len(seq))\n",
    "\n",
    "df[\"Processed_Seq\"] = df[\"Encoded_Sequence\"].apply(process_seq)\n",
    "\n",
    "# Prepare features and labels\n",
    "X = np.array(df[\"Processed_Seq\"].tolist())\n",
    "y = df[\"Mutation_Label\"].values\n",
    "\n",
    "# Normalize sequence values to [-π, π]\n",
    "scaler = MinMaxScaler(feature_range=(-np.pi, np.pi))\n",
    "X_scaled = scaler.fit_transform(X)\n",
    "\n",
    "# Split into training and testing sets\n",
    "X_train, X_test, y_train, y_test = train_test_split(\n",
    "    X_scaled, y, test_size=0.2, random_state=42\n",
    ")\n"
   ]
  },
  {
   "cell_type": "code",
   "execution_count": 7,
   "id": "2e194803",
   "metadata": {},
   "outputs": [],
   "source": [
    "n_qubits = SEQ_LEN\n",
    "dev = qml.device(\"default.qubit\", wires=n_qubits)\n",
    "\n",
    "def feature_map(x):\n",
    "    for i in range(n_qubits):\n",
    "        qml.Hadamard(wires=i)\n",
    "        qml.RY(x[i], wires=i)\n",
    "    for i in range(n_qubits - 1):\n",
    "        qml.CZ(wires=[i, i + 1])\n",
    "\n",
    "@qml.qnode(dev)\n",
    "def kernel_circuit(x1, x2):\n",
    "    feature_map(x1)\n",
    "    qml.adjoint(feature_map)(x2)\n",
    "    return qml.probs(wires=range(n_qubits))  # return full probability vector\n"
   ]
  },
  {
   "cell_type": "code",
   "execution_count": 17,
   "id": "aa6d3908",
   "metadata": {},
   "outputs": [
    {
     "name": "stdout",
     "output_type": "stream",
     "text": [
      "🔄 Computing quantum kernel matrices on 10 samples...\n"
     ]
    },
    {
     "name": "stderr",
     "output_type": "stream",
     "text": [
      "Computing kernel rows: 100%|██████████| 16/16 [06:54<00:00, 25.89s/it]\n",
      "Computing kernel rows: 100%|██████████| 4/4 [02:51<00:00, 42.96s/it]\n"
     ]
    }
   ],
   "source": [
    "import numpy as np\n",
    "from sklearn.model_selection import train_test_split\n",
    "from tqdm import tqdm  # make sure it's installed or remove tqdm for pure Python\n",
    "\n",
    "# Combine full dataset before sampling\n",
    "X_all = np.concatenate((X_train, X_test), axis=0)\n",
    "y_all = np.concatenate((y_train, y_test), axis=0)\n",
    "\n",
    "# Reduce sample size\n",
    "# Use 50 samples instead of just 10\n",
    "X_limited = X_all[:20]\n",
    "y_limited = y_all[:20]\n",
    "\n",
    "# Re-split the smaller set\n",
    "X_train_small, X_test_small, y_train_small, y_test_small = train_test_split(\n",
    "    X_limited, y_limited, test_size=0.2, random_state=42, stratify=y_limited\n",
    ")\n",
    "\n",
    "# Optimized kernel matrix computation\n",
    "def compute_kernel_matrix(X1, X2, symmetric=False):\n",
    "    n1 = len(X1)\n",
    "    n2 = len(X2)\n",
    "    K = np.zeros((n1, n2))\n",
    "    \n",
    "    for i in tqdm(range(n1), desc=\"Computing kernel rows\"):\n",
    "        for j in range(i if symmetric else 0, n2):\n",
    "            k_val = compute_kernel([X1[i]], [X2[j]])[0][0]\n",
    "            K[i, j] = k_val\n",
    "            if symmetric:\n",
    "                K[j, i] = k_val  # use symmetry\n",
    "\n",
    "    return K\n",
    "\n",
    "print(\"🔄 Computing quantum kernel matrices on 10 samples...\")\n",
    "\n",
    "K_train = compute_kernel_matrix(X_train_small, X_train_small, symmetric=True)\n",
    "K_test = compute_kernel_matrix(X_test_small, X_train_small, symmetric=False)\n"
   ]
  },
  {
   "cell_type": "code",
   "execution_count": 33,
   "id": "658dda2f",
   "metadata": {},
   "outputs": [],
   "source": [
    "y_train_small = y_train[:16]  # Take the first 16 labels to match K_train\n"
   ]
  },
  {
   "cell_type": "code",
   "execution_count": 18,
   "id": "4e64ec40",
   "metadata": {},
   "outputs": [
    {
     "name": "stdout",
     "output_type": "stream",
     "text": [
      "✅ QSVM Training Accuracy: 100.00%\n",
      "✅ QSVM Test Accuracy: 50.00%\n"
     ]
    }
   ],
   "source": [
    "# Train SVM with precomputed quantum kernel\n",
    "clf = SVC(kernel=\"precomputed\")\n",
    "clf.fit(K_train, y_train_small)\n",
    "\n",
    "# Evaluate accuracy\n",
    "train_acc = clf.score(K_train, y_train_small)\n",
    "test_acc = clf.score(K_test, y_test_small)\n",
    "\n",
    "print(f\"✅ QSVM Training Accuracy: {train_acc * 100:.2f}%\")\n",
    "print(f\"✅ QSVM Test Accuracy: {test_acc * 100:.2f}%\")\n"
   ]
  },
  {
   "cell_type": "code",
   "execution_count": 28,
   "id": "de04dad5",
   "metadata": {},
   "outputs": [],
   "source": [
    "df.columns = df.columns.str.strip()  # removes leading/trailing spaces\n"
   ]
  },
  {
   "cell_type": "code",
   "execution_count": 32,
   "id": "8073bf4d",
   "metadata": {},
   "outputs": [
    {
     "name": "stdout",
     "output_type": "stream",
     "text": [
      "Epoch 1: Accuracy = 1.0000, Loss = 0.0000\n",
      "Epoch 2: Accuracy = 1.0000, Loss = 0.0000\n",
      "Epoch 3: Accuracy = 1.0000, Loss = 0.0000\n",
      "Epoch 4: Accuracy = 1.0000, Loss = 0.0000\n",
      "Epoch 5: Accuracy = 1.0000, Loss = 0.0000\n",
      "Epoch 6: Accuracy = 1.0000, Loss = 0.0000\n",
      "Epoch 7: Accuracy = 1.0000, Loss = 0.0000\n",
      "Epoch 8: Accuracy = 1.0000, Loss = 0.0000\n",
      "Epoch 9: Accuracy = 1.0000, Loss = 0.0000\n",
      "Epoch 10: Accuracy = 1.0000, Loss = 0.0000\n"
     ]
    },
    {
     "data": {
      "image/png": "[encoded data removed]",
      "text/plain": [
       "<Figure size 600x400 with 1 Axes>"
      ]
     },
     "metadata": {},
     "output_type": "display_data"
    },
    {
     "data": {
      "image/png": "[encoded data removed]",
      "text/plain": [
       "<Figure size 600x400 with 1 Axes>"
      ]
     },
     "metadata": {},
     "output_type": "display_data"
    }
   ],
   "source": [
    "import matplotlib.pyplot as plt\n",
    "\n",
    "# Simulate epochs (SVM doesn't train with epochs normally)\n",
    "epochs = 10\n",
    "train_losses = []\n",
    "train_accuracies = []\n",
    "\n",
    "for epoch in range(1, epochs + 1):\n",
    "    # Train again (SVM doesn't use epochs, but we simulate it for plotting purposes)\n",
    "    clf.fit(K_train, y_train_small)\n",
    "    \n",
    "    acc = clf.score(K_train, y_train_small)\n",
    "    train_accuracies.append(acc)\n",
    "    \n",
    "    # Simulate loss as (1 - accuracy)\n",
    "    loss = 1 - acc\n",
    "    train_losses.append(loss)\n",
    "    \n",
    "    # Print epoch, accuracy, and loss\n",
    "    print(f\"Epoch {epoch}: Accuracy = {acc:.4f}, Loss = {loss:.4f}\")\n",
    "\n",
    "# Plot training loss\n",
    "plt.figure(figsize=(6, 4))\n",
    "plt.plot(range(1, epochs + 1), train_losses, marker='o', label='Training Loss')\n",
    "plt.title(\"Simulated Training Loss over Epochs\")\n",
    "plt.xlabel(\"Epoch\")\n",
    "plt.ylabel(\"Loss\")\n",
    "plt.grid(True)\n",
    "plt.legend()\n",
    "plt.show()\n",
    "\n",
    "# Plot training accuracy\n",
    "plt.figure(figsize=(6, 4))\n",
    "plt.plot(range(1, epochs + 1), train_accuracies, marker='x', color='green', label='Training Accuracy')\n",
    "plt.title(\"Training Accuracy over Epochs\")\n",
    "plt.xlabel(\"Epoch\")\n",
    "plt.ylabel(\"Accuracy\")\n",
    "plt.grid(True)\n",
    "plt.legend()\n",
    "plt.show()\n"
   ]
  },
  {
   "cell_type": "code",
   "execution_count": 21,
   "id": "bc18d5b3",
   "metadata": {},
   "outputs": [
    {
     "name": "stdout",
     "output_type": "stream",
     "text": [
      "📁 Saved predictions to qsvm_mutation_predictions.csv\n"
     ]
    }
   ],
   "source": [
    "# Make predictions\n",
    "y_pred = clf.predict(K_test)\n",
    "\n",
    "# Create DataFrame for comparison\n",
    "results_df = pd.DataFrame({\n",
    "    \"True_Label\": y_test_small,\n",
    "    \"Predicted_Label\": y_pred\n",
    "})\n",
    "\n",
    "# Save to CSV\n",
    "results_df.to_csv(\"qsvm_mutation_predictions.csv\", index=False)\n",
    "print(\"📁 Saved predictions to qsvm_mutation_predictions.csv\")\n"
   ]
  }
 ],
 "metadata": {
  "kernelspec": {
   "display_name": "qlstm_env",
   "language": "python",
   "name": "python3"
  },
  "language_info": {
   "codemirror_mode": {
    "name": "ipython",
    "version": 3
   },
   "file_extension": ".py",
   "mimetype": "text/x-python",
   "name": "python",
   "nbconvert_exporter": "python",
   "pygments_lexer": "ipython3",
   "version": "3.10.16"
  }
 },
 "nbformat": 4,
 "nbformat_minor": 5
}
