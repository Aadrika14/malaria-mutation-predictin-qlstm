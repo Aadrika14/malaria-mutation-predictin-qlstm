{
 "cells": [
  {
   "cell_type": "code",
   "execution_count": 1,
   "metadata": {
    "execution": {
     "iopub.execute_input": "2025-05-02T22:33:14.822697Z",
     "iopub.status.busy": "2025-05-02T22:33:14.821701Z",
     "iopub.status.idle": "2025-05-02T22:33:15.127625Z",
     "shell.execute_reply": "2025-05-02T22:33:15.126618Z"
    }
   },
   "outputs": [],
   "source": [
    "%load_ext autoreload\n",
    "%autoreload 2"
   ]
  },
  {
   "cell_type": "code",
   "execution_count": 2,
   "metadata": {
    "execution": {
     "iopub.execute_input": "2025-05-02T22:33:15.131641Z",
     "iopub.status.busy": "2025-05-02T22:33:15.130619Z",
     "iopub.status.idle": "2025-05-02T22:33:18.663578Z",
     "shell.execute_reply": "2025-05-02T22:33:18.662574Z"
    }
   },
   "outputs": [
    {
     "name": "stderr",
     "output_type": "stream",
     "text": [
      "\n",
      "A module that was compiled using NumPy 1.x cannot be run in\n",
      "NumPy 2.0.2 as it may crash. To support both 1.x and 2.x\n",
      "versions of NumPy, modules must be compiled with NumPy 2.0.\n",
      "Some module may need to rebuild instead e.g. with 'pybind11>=2.12'.\n",
      "\n",
      "If you are a user of the module, the easiest solution will be to\n",
      "downgrade to 'numpy<2' or try to upgrade the affected module.\n",
      "We expect that some modules will need time to support NumPy 2.\n",
      "\n",
      "Traceback (most recent call last):  File \"<frozen runpy>\", line 198, in _run_module_as_main\n",
      "  File \"<frozen runpy>\", line 88, in _run_code\n",
      "  File \"C:\\Users\\LENOVO\\AppData\\Roaming\\Python\\Python312\\site-packages\\ipykernel_launcher.py\", line 18, in <module>\n",
      "    app.launch_new_instance()\n",
      "  File \"C:\\Users\\LENOVO\\AppData\\Roaming\\Python\\Python312\\site-packages\\traitlets\\config\\application.py\", line 1075, in launch_instance\n",
      "    app.start()\n",
      "  File \"C:\\Users\\LENOVO\\AppData\\Roaming\\Python\\Python312\\site-packages\\ipykernel\\kernelapp.py\", line 739, in start\n",
      "    self.io_loop.start()\n",
      "  File \"C:\\Users\\LENOVO\\AppData\\Roaming\\Python\\Python312\\site-packages\\tornado\\platform\\asyncio.py\", line 205, in start\n",
      "    self.asyncio_loop.run_forever()\n",
      "  File \"C:\\Users\\LENOVO\\anaconda3\\Lib\\asyncio\\base_events.py\", line 641, in run_forever\n",
      "    self._run_once()\n",
      "  File \"C:\\Users\\LENOVO\\anaconda3\\Lib\\asyncio\\base_events.py\", line 1986, in _run_once\n",
      "    handle._run()\n",
      "  File \"C:\\Users\\LENOVO\\anaconda3\\Lib\\asyncio\\events.py\", line 88, in _run\n",
      "    self._context.run(self._callback, *self._args)\n",
      "  File \"C:\\Users\\LENOVO\\AppData\\Roaming\\Python\\Python312\\site-packages\\ipykernel\\kernelbase.py\", line 545, in dispatch_queue\n",
      "    await self.process_one()\n",
      "  File \"C:\\Users\\LENOVO\\AppData\\Roaming\\Python\\Python312\\site-packages\\ipykernel\\kernelbase.py\", line 534, in process_one\n",
      "    await dispatch(*args)\n",
      "  File \"C:\\Users\\LENOVO\\AppData\\Roaming\\Python\\Python312\\site-packages\\ipykernel\\kernelbase.py\", line 437, in dispatch_shell\n",
      "    await result\n",
      "  File \"C:\\Users\\LENOVO\\AppData\\Roaming\\Python\\Python312\\site-packages\\ipykernel\\ipkernel.py\", line 362, in execute_request\n",
      "    await super().execute_request(stream, ident, parent)\n",
      "  File \"C:\\Users\\LENOVO\\AppData\\Roaming\\Python\\Python312\\site-packages\\ipykernel\\kernelbase.py\", line 778, in execute_request\n",
      "    reply_content = await reply_content\n",
      "  File \"C:\\Users\\LENOVO\\AppData\\Roaming\\Python\\Python312\\site-packages\\ipykernel\\ipkernel.py\", line 449, in do_execute\n",
      "    res = shell.run_cell(\n",
      "  File \"C:\\Users\\LENOVO\\AppData\\Roaming\\Python\\Python312\\site-packages\\ipykernel\\zmqshell.py\", line 549, in run_cell\n",
      "    return super().run_cell(*args, **kwargs)\n",
      "  File \"C:\\Users\\LENOVO\\AppData\\Roaming\\Python\\Python312\\site-packages\\IPython\\core\\interactiveshell.py\", line 3047, in run_cell\n",
      "    result = self._run_cell(\n",
      "  File \"C:\\Users\\LENOVO\\AppData\\Roaming\\Python\\Python312\\site-packages\\IPython\\core\\interactiveshell.py\", line 3102, in _run_cell\n",
      "    result = runner(coro)\n",
      "  File \"C:\\Users\\LENOVO\\AppData\\Roaming\\Python\\Python312\\site-packages\\IPython\\core\\async_helpers.py\", line 128, in _pseudo_sync_runner\n",
      "    coro.send(None)\n",
      "  File \"C:\\Users\\LENOVO\\AppData\\Roaming\\Python\\Python312\\site-packages\\IPython\\core\\interactiveshell.py\", line 3306, in run_cell_async\n",
      "    has_raised = await self.run_ast_nodes(code_ast.body, cell_name,\n",
      "  File \"C:\\Users\\LENOVO\\AppData\\Roaming\\Python\\Python312\\site-packages\\IPython\\core\\interactiveshell.py\", line 3489, in run_ast_nodes\n",
      "    if await self.run_code(code, result, async_=asy):\n",
      "  File \"C:\\Users\\LENOVO\\AppData\\Roaming\\Python\\Python312\\site-packages\\IPython\\core\\interactiveshell.py\", line 3549, in run_code\n",
      "    exec(code_obj, self.user_global_ns, self.user_ns)\n",
      "  File \"C:\\Users\\LENOVO\\AppData\\Local\\Temp\\ipykernel_14204\\1932730717.py\", line 1, in <module>\n",
      "    import pandas as pd\n",
      "  File \"C:\\Users\\LENOVO\\AppData\\Roaming\\Python\\Python312\\site-packages\\pandas\\__init__.py\", line 62, in <module>\n",
      "    from pandas.core.api import (\n",
      "  File \"C:\\Users\\LENOVO\\AppData\\Roaming\\Python\\Python312\\site-packages\\pandas\\core\\api.py\", line 28, in <module>\n",
      "    from pandas.core.arrays import Categorical\n",
      "  File \"C:\\Users\\LENOVO\\AppData\\Roaming\\Python\\Python312\\site-packages\\pandas\\core\\arrays\\__init__.py\", line 1, in <module>\n",
      "    from pandas.core.arrays.arrow import ArrowExtensionArray\n",
      "  File \"C:\\Users\\LENOVO\\AppData\\Roaming\\Python\\Python312\\site-packages\\pandas\\core\\arrays\\arrow\\__init__.py\", line 5, in <module>\n",
      "    from pandas.core.arrays.arrow.array import ArrowExtensionArray\n",
      "  File \"C:\\Users\\LENOVO\\AppData\\Roaming\\Python\\Python312\\site-packages\\pandas\\core\\arrays\\arrow\\array.py\", line 50, in <module>\n",
      "    from pandas.core import (\n",
      "  File \"C:\\Users\\LENOVO\\AppData\\Roaming\\Python\\Python312\\site-packages\\pandas\\core\\ops\\__init__.py\", line 8, in <module>\n",
      "    from pandas.core.ops.array_ops import (\n",
      "  File \"C:\\Users\\LENOVO\\AppData\\Roaming\\Python\\Python312\\site-packages\\pandas\\core\\ops\\array_ops.py\", line 56, in <module>\n",
      "    from pandas.core.computation import expressions\n",
      "  File \"C:\\Users\\LENOVO\\AppData\\Roaming\\Python\\Python312\\site-packages\\pandas\\core\\computation\\expressions.py\", line 21, in <module>\n",
      "    from pandas.core.computation.check import NUMEXPR_INSTALLED\n",
      "  File \"C:\\Users\\LENOVO\\AppData\\Roaming\\Python\\Python312\\site-packages\\pandas\\core\\computation\\check.py\", line 5, in <module>\n",
      "    ne = import_optional_dependency(\"numexpr\", errors=\"warn\")\n",
      "  File \"C:\\Users\\LENOVO\\AppData\\Roaming\\Python\\Python312\\site-packages\\pandas\\compat\\_optional.py\", line 135, in import_optional_dependency\n",
      "    module = importlib.import_module(name)\n",
      "  File \"C:\\Users\\LENOVO\\anaconda3\\Lib\\importlib\\__init__.py\", line 90, in import_module\n",
      "    return _bootstrap._gcd_import(name[level:], package, level)\n",
      "  File \"C:\\Users\\LENOVO\\anaconda3\\Lib\\site-packages\\numexpr\\__init__.py\", line 24, in <module>\n",
      "    from numexpr.interpreter import MAX_THREADS, use_vml, __BLOCK_SIZE1__\n"
     ]
    },
    {
     "ename": "AttributeError",
     "evalue": "_ARRAY_API not found",
     "output_type": "error",
     "traceback": [
      "\u001b[31m---------------------------------------------------------------------------\u001b[39m",
      "\u001b[31mAttributeError\u001b[39m                            Traceback (most recent call last)",
      "\u001b[31mAttributeError\u001b[39m: _ARRAY_API not found"
     ]
    },
    {
     "name": "stderr",
     "output_type": "stream",
     "text": [
      "\n",
      "A module that was compiled using NumPy 1.x cannot be run in\n",
      "NumPy 2.0.2 as it may crash. To support both 1.x and 2.x\n",
      "versions of NumPy, modules must be compiled with NumPy 2.0.\n",
      "Some module may need to rebuild instead e.g. with 'pybind11>=2.12'.\n",
      "\n",
      "If you are a user of the module, the easiest solution will be to\n",
      "downgrade to 'numpy<2' or try to upgrade the affected module.\n",
      "We expect that some modules will need time to support NumPy 2.\n",
      "\n",
      "Traceback (most recent call last):  File \"<frozen runpy>\", line 198, in _run_module_as_main\n",
      "  File \"<frozen runpy>\", line 88, in _run_code\n",
      "  File \"C:\\Users\\LENOVO\\AppData\\Roaming\\Python\\Python312\\site-packages\\ipykernel_launcher.py\", line 18, in <module>\n",
      "    app.launch_new_instance()\n",
      "  File \"C:\\Users\\LENOVO\\AppData\\Roaming\\Python\\Python312\\site-packages\\traitlets\\config\\application.py\", line 1075, in launch_instance\n",
      "    app.start()\n",
      "  File \"C:\\Users\\LENOVO\\AppData\\Roaming\\Python\\Python312\\site-packages\\ipykernel\\kernelapp.py\", line 739, in start\n",
      "    self.io_loop.start()\n",
      "  File \"C:\\Users\\LENOVO\\AppData\\Roaming\\Python\\Python312\\site-packages\\tornado\\platform\\asyncio.py\", line 205, in start\n",
      "    self.asyncio_loop.run_forever()\n",
      "  File \"C:\\Users\\LENOVO\\anaconda3\\Lib\\asyncio\\base_events.py\", line 641, in run_forever\n",
      "    self._run_once()\n",
      "  File \"C:\\Users\\LENOVO\\anaconda3\\Lib\\asyncio\\base_events.py\", line 1986, in _run_once\n",
      "    handle._run()\n",
      "  File \"C:\\Users\\LENOVO\\anaconda3\\Lib\\asyncio\\events.py\", line 88, in _run\n",
      "    self._context.run(self._callback, *self._args)\n",
      "  File \"C:\\Users\\LENOVO\\AppData\\Roaming\\Python\\Python312\\site-packages\\ipykernel\\kernelbase.py\", line 545, in dispatch_queue\n",
      "    await self.process_one()\n",
      "  File \"C:\\Users\\LENOVO\\AppData\\Roaming\\Python\\Python312\\site-packages\\ipykernel\\kernelbase.py\", line 534, in process_one\n",
      "    await dispatch(*args)\n",
      "  File \"C:\\Users\\LENOVO\\AppData\\Roaming\\Python\\Python312\\site-packages\\ipykernel\\kernelbase.py\", line 437, in dispatch_shell\n",
      "    await result\n",
      "  File \"C:\\Users\\LENOVO\\AppData\\Roaming\\Python\\Python312\\site-packages\\ipykernel\\ipkernel.py\", line 362, in execute_request\n",
      "    await super().execute_request(stream, ident, parent)\n",
      "  File \"C:\\Users\\LENOVO\\AppData\\Roaming\\Python\\Python312\\site-packages\\ipykernel\\kernelbase.py\", line 778, in execute_request\n",
      "    reply_content = await reply_content\n",
      "  File \"C:\\Users\\LENOVO\\AppData\\Roaming\\Python\\Python312\\site-packages\\ipykernel\\ipkernel.py\", line 449, in do_execute\n",
      "    res = shell.run_cell(\n",
      "  File \"C:\\Users\\LENOVO\\AppData\\Roaming\\Python\\Python312\\site-packages\\ipykernel\\zmqshell.py\", line 549, in run_cell\n",
      "    return super().run_cell(*args, **kwargs)\n",
      "  File \"C:\\Users\\LENOVO\\AppData\\Roaming\\Python\\Python312\\site-packages\\IPython\\core\\interactiveshell.py\", line 3047, in run_cell\n",
      "    result = self._run_cell(\n",
      "  File \"C:\\Users\\LENOVO\\AppData\\Roaming\\Python\\Python312\\site-packages\\IPython\\core\\interactiveshell.py\", line 3102, in _run_cell\n",
      "    result = runner(coro)\n",
      "  File \"C:\\Users\\LENOVO\\AppData\\Roaming\\Python\\Python312\\site-packages\\IPython\\core\\async_helpers.py\", line 128, in _pseudo_sync_runner\n",
      "    coro.send(None)\n",
      "  File \"C:\\Users\\LENOVO\\AppData\\Roaming\\Python\\Python312\\site-packages\\IPython\\core\\interactiveshell.py\", line 3306, in run_cell_async\n",
      "    has_raised = await self.run_ast_nodes(code_ast.body, cell_name,\n",
      "  File \"C:\\Users\\LENOVO\\AppData\\Roaming\\Python\\Python312\\site-packages\\IPython\\core\\interactiveshell.py\", line 3489, in run_ast_nodes\n",
      "    if await self.run_code(code, result, async_=asy):\n",
      "  File \"C:\\Users\\LENOVO\\AppData\\Roaming\\Python\\Python312\\site-packages\\IPython\\core\\interactiveshell.py\", line 3549, in run_code\n",
      "    exec(code_obj, self.user_global_ns, self.user_ns)\n",
      "  File \"C:\\Users\\LENOVO\\AppData\\Local\\Temp\\ipykernel_14204\\1932730717.py\", line 1, in <module>\n",
      "    import pandas as pd\n",
      "  File \"C:\\Users\\LENOVO\\AppData\\Roaming\\Python\\Python312\\site-packages\\pandas\\__init__.py\", line 62, in <module>\n",
      "    from pandas.core.api import (\n",
      "  File \"C:\\Users\\LENOVO\\AppData\\Roaming\\Python\\Python312\\site-packages\\pandas\\core\\api.py\", line 28, in <module>\n",
      "    from pandas.core.arrays import Categorical\n",
      "  File \"C:\\Users\\LENOVO\\AppData\\Roaming\\Python\\Python312\\site-packages\\pandas\\core\\arrays\\__init__.py\", line 1, in <module>\n",
      "    from pandas.core.arrays.arrow import ArrowExtensionArray\n",
      "  File \"C:\\Users\\LENOVO\\AppData\\Roaming\\Python\\Python312\\site-packages\\pandas\\core\\arrays\\arrow\\__init__.py\", line 5, in <module>\n",
      "    from pandas.core.arrays.arrow.array import ArrowExtensionArray\n",
      "  File \"C:\\Users\\LENOVO\\AppData\\Roaming\\Python\\Python312\\site-packages\\pandas\\core\\arrays\\arrow\\array.py\", line 64, in <module>\n",
      "    from pandas.core.arrays.masked import BaseMaskedArray\n",
      "  File \"C:\\Users\\LENOVO\\AppData\\Roaming\\Python\\Python312\\site-packages\\pandas\\core\\arrays\\masked.py\", line 60, in <module>\n",
      "    from pandas.core import (\n",
      "  File \"C:\\Users\\LENOVO\\AppData\\Roaming\\Python\\Python312\\site-packages\\pandas\\core\\nanops.py\", line 52, in <module>\n",
      "    bn = import_optional_dependency(\"bottleneck\", errors=\"warn\")\n",
      "  File \"C:\\Users\\LENOVO\\AppData\\Roaming\\Python\\Python312\\site-packages\\pandas\\compat\\_optional.py\", line 135, in import_optional_dependency\n",
      "    module = importlib.import_module(name)\n",
      "  File \"C:\\Users\\LENOVO\\anaconda3\\Lib\\importlib\\__init__.py\", line 90, in import_module\n",
      "    return _bootstrap._gcd_import(name[level:], package, level)\n",
      "  File \"C:\\Users\\LENOVO\\anaconda3\\Lib\\site-packages\\bottleneck\\__init__.py\", line 7, in <module>\n",
      "    from .move import (move_argmax, move_argmin, move_max, move_mean, move_median,\n"
     ]
    },
    {
     "ename": "ImportError",
     "evalue": "\nA module that was compiled using NumPy 1.x cannot be run in\nNumPy 2.0.2 as it may crash. To support both 1.x and 2.x\nversions of NumPy, modules must be compiled with NumPy 2.0.\nSome module may need to rebuild instead e.g. with 'pybind11>=2.12'.\n\nIf you are a user of the module, the easiest solution will be to\ndowngrade to 'numpy<2' or try to upgrade the affected module.\nWe expect that some modules will need time to support NumPy 2.\n\n",
     "output_type": "error",
     "traceback": [
      "\u001b[31m---------------------------------------------------------------------------\u001b[39m",
      "\u001b[31mImportError\u001b[39m                               Traceback (most recent call last)",
      "\u001b[36mFile \u001b[39m\u001b[32m~\\AppData\\Roaming\\Python\\Python312\\site-packages\\numpy\\core\\_multiarray_umath.py:44\u001b[39m, in \u001b[36m__getattr__\u001b[39m\u001b[34m(attr_name)\u001b[39m\n\u001b[32m     39\u001b[39m     \u001b[38;5;66;03m# Also print the message (with traceback).  This is because old versions\u001b[39;00m\n\u001b[32m     40\u001b[39m     \u001b[38;5;66;03m# of NumPy unfortunately set up the import to replace (and hide) the\u001b[39;00m\n\u001b[32m     41\u001b[39m     \u001b[38;5;66;03m# error.  The traceback shouldn't be needed, but e.g. pytest plugins\u001b[39;00m\n\u001b[32m     42\u001b[39m     \u001b[38;5;66;03m# seem to swallow it and we should be failing anyway...\u001b[39;00m\n\u001b[32m     43\u001b[39m     sys.stderr.write(msg + tb_msg)\n\u001b[32m---> \u001b[39m\u001b[32m44\u001b[39m     \u001b[38;5;28;01mraise\u001b[39;00m \u001b[38;5;167;01mImportError\u001b[39;00m(msg)\n\u001b[32m     46\u001b[39m ret = \u001b[38;5;28mgetattr\u001b[39m(_multiarray_umath, attr_name, \u001b[38;5;28;01mNone\u001b[39;00m)\n\u001b[32m     47\u001b[39m \u001b[38;5;28;01mif\u001b[39;00m ret \u001b[38;5;129;01mis\u001b[39;00m \u001b[38;5;28;01mNone\u001b[39;00m:\n",
      "\u001b[31mImportError\u001b[39m: \nA module that was compiled using NumPy 1.x cannot be run in\nNumPy 2.0.2 as it may crash. To support both 1.x and 2.x\nversions of NumPy, modules must be compiled with NumPy 2.0.\nSome module may need to rebuild instead e.g. with 'pybind11>=2.12'.\n\nIf you are a user of the module, the easiest solution will be to\ndowngrade to 'numpy<2' or try to upgrade the affected module.\nWe expect that some modules will need time to support NumPy 2.\n\n"
     ]
    }
   ],
   "source": [
    "import pandas as pd\n",
    "import ast\n",
    "from sklearn.model_selection import train_test_split\n",
    "\n",
    "# Load dataset\n",
    "df = pd.read_csv(\"final_combined_mutation_dataset.csv\")\n",
    "\n",
    "# Select relevant columns\n",
    "df = df[['Encoded_Sequence','Geo_Location','Tissue_Specimen_Source','Collection_Year','Body_Temperature','Parasite_Density','Mutation_Label']]\n",
    "\n",
    "# Parse stringified lists into actual lists\n",
    "df['Encoded_Sequence'] = df['Encoded_Sequence'].apply(ast.literal_eval)\n",
    "\n",
    "# Drop missing rows\n",
    "df = df.dropna()\n",
    "\n",
    "# Train-test split\n",
    "df_train, df_test = train_test_split(df, test_size=0.2, random_state=42)\n",
    "features = ['Collection_Year', 'Body_Temperature', 'Parasite_Density']\n"
   ]
  },
  {
   "cell_type": "code",
   "execution_count": 3,
   "metadata": {
    "execution": {
     "iopub.execute_input": "2025-05-02T22:33:18.668578Z",
     "iopub.status.busy": "2025-05-02T22:33:18.667576Z",
     "iopub.status.idle": "2025-05-02T22:33:18.834966Z",
     "shell.execute_reply": "2025-05-02T22:33:18.833959Z"
    }
   },
   "outputs": [],
   "source": [
    "def normalize(df, features, min_val=None, max_val=None):\n",
    "    if min_val is None:\n",
    "        min_val = df[features].min()\n",
    "    if max_val is None:\n",
    "        max_val = df[features].max()\n",
    "    df_norm = df.copy()\n",
    "    df_norm[features] = (df[features] - min_val) / (max_val - min_val + 0.0001)\n",
    "    return df_norm, min_val, max_val"
   ]
  },
  {
   "cell_type": "code",
   "execution_count": 4,
   "metadata": {
    "execution": {
     "iopub.execute_input": "2025-05-02T22:33:18.839961Z",
     "iopub.status.busy": "2025-05-02T22:33:18.838961Z",
     "iopub.status.idle": "2025-05-02T22:33:18.995920Z",
     "shell.execute_reply": "2025-05-02T22:33:18.994913Z"
    }
   },
   "outputs": [],
   "source": [
    "# ✅ Normalize train and test on same scale\n",
    "df_train, min_train, max_train = normalize(df_train, features)\n",
    "df_test, _, _ = normalize(df_test, features, min_val=min_train, max_val=max_train)"
   ]
  },
  {
   "cell_type": "code",
   "execution_count": 5,
   "metadata": {
    "execution": {
     "iopub.execute_input": "2025-05-02T22:33:19.001915Z",
     "iopub.status.busy": "2025-05-02T22:33:19.000916Z",
     "iopub.status.idle": "2025-05-02T22:33:32.218823Z",
     "shell.execute_reply": "2025-05-02T22:33:32.217798Z"
    }
   },
   "outputs": [
    {
     "name": "stdout",
     "output_type": "stream",
     "text": [
      "✅ Features shape: torch.Size([1, 3, 3])\n",
      "🎯 Target shape: torch.Size([1])\n"
     ]
    }
   ],
   "source": [
    "from QLSTM import SequenceDataset\n",
    "from torch.utils.data import DataLoader\n",
    "\n",
    "sequence_length = 3\n",
    "batch_size = 1\n",
    "target = 'Mutation_Label'  # ✅ Add this line to fix the error\n",
    "\n",
    "train_dataset = SequenceDataset(df_train, target=target, features=features, sequence_length=sequence_length)\n",
    "test_dataset = SequenceDataset(df_test, target=target, features=features, sequence_length=sequence_length)\n",
    "\n",
    "train_loader = DataLoader(train_dataset, batch_size=batch_size, shuffle=True)\n",
    "test_loader = DataLoader(test_dataset, batch_size=batch_size, shuffle=False)\n",
    "\n",
    "# Check\n",
    "X, y = next(iter(train_loader))\n",
    "print(\"✅ Features shape:\", X.shape)\n",
    "print(\"🎯 Target shape:\", y.shape)\n"
   ]
  },
  {
   "cell_type": "code",
   "execution_count": 6,
   "metadata": {
    "execution": {
     "iopub.execute_input": "2025-05-02T22:33:32.277133Z",
     "iopub.status.busy": "2025-05-02T22:33:32.276137Z",
     "iopub.status.idle": "2025-05-02T22:33:32.815009Z",
     "shell.execute_reply": "2025-05-02T22:33:32.814003Z"
    }
   },
   "outputs": [],
   "source": [
    "def train_model(data_loader, model, loss_function, optimizer):\n",
    "    num_batches = len(data_loader)\n",
    "    total_loss = 0\n",
    "    model.train()\n",
    "    \n",
    "    for X, y in data_loader:\n",
    "        output = model(X)\n",
    "        loss = loss_function(output, y)\n",
    "\n",
    "        optimizer.zero_grad()\n",
    "        loss.backward()\n",
    "        optimizer.step()\n",
    "\n",
    "        total_loss += loss.item()\n",
    "\n",
    "    avg_loss = total_loss / num_batches\n",
    "    print(f\"Train loss: {avg_loss}\")\n",
    "    return avg_loss\n",
    "\n",
    "\n",
    "def test_model(data_loader, model, loss_function): \n",
    "    num_batches = len(data_loader)\n",
    "    total_loss = 0\n",
    "\n",
    "    model.eval()\n",
    "    with torch.no_grad():\n",
    "        for X, y in data_loader:\n",
    "            output = model(X)\n",
    "            total_loss += loss_function(output, y).item()\n",
    "\n",
    "    avg_loss = total_loss / num_batches\n",
    "    print(f\"Test loss: {avg_loss}\")\n",
    "    return avg_loss\n",
    "\n",
    "def predict(data_loader, model):\n",
    "    \"\"\"Just like `test_loop` function but keep track of the outputs instead of the loss\n",
    "    function.\n",
    "    \"\"\"\n",
    "    output = torch.tensor([])\n",
    "    model.eval()\n",
    "    with torch.no_grad():\n",
    "        for X, _ in data_loader:\n",
    "            y_star = model(X)\n",
    "            output = torch.cat((output, y_star), 0)\n",
    "    \n",
    "    return output"
   ]
  },
  {
   "cell_type": "code",
   "execution_count": 7,
   "metadata": {
    "execution": {
     "iopub.execute_input": "2025-05-02T22:33:32.821005Z",
     "iopub.status.busy": "2025-05-02T22:33:32.820004Z",
     "iopub.status.idle": "2025-05-02T22:34:14.891661Z",
     "shell.execute_reply": "2025-05-02T22:34:14.890648Z"
    }
   },
   "outputs": [],
   "source": [
    "import torch\n",
    "import torch.nn as nn\n",
    "from QLSTM import ShallowRegressionLSTM\n",
    "\n",
    "learning_rate = 0.01\n",
    "num_hidden_units = 7\n",
    "# When defining the model\n",
    "model = ShallowRegressionLSTM(num_sensors=3, hidden_units=64)\n",
    "\n",
    "\n",
    "X_test_tensor = torch.tensor(df_test['Encoded_Sequence'].tolist(), dtype=torch.float32)\n",
    "X_test_tensor = X_test_tensor.unsqueeze(-1)  # Make shape (batch, seq_len, 1)\n",
    "\n",
    "model = ShallowRegressionLSTM(\n",
    "    num_sensors=len(features),\n",
    "    hidden_units=num_hidden_units,\n",
    "    num_layers=1\n",
    ")\n",
    "loss_function = nn.MSELoss()\n",
    "optimizer = torch.optim.Adam(model.parameters(), lr=learning_rate)\n"
   ]
  },
  {
   "cell_type": "code",
   "execution_count": 8,
   "metadata": {
    "execution": {
     "iopub.execute_input": "2025-05-02T22:34:14.897508Z",
     "iopub.status.busy": "2025-05-02T22:34:14.896528Z",
     "iopub.status.idle": "2025-05-02T22:34:15.218831Z",
     "shell.execute_reply": "2025-05-02T22:34:15.217807Z"
    }
   },
   "outputs": [
    {
     "name": "stdout",
     "output_type": "stream",
     "text": [
      "Input shape: torch.Size([1, 3, 3])\n"
     ]
    }
   ],
   "source": [
    "for X_batch, y_batch in train_loader:\n",
    "    print(\"Input shape:\", X_batch.shape)  # should be (batch_size, seq_len, num_features)\n",
    "    break\n"
   ]
  },
  {
   "cell_type": "code",
   "execution_count": 9,
   "metadata": {
    "execution": {
     "iopub.execute_input": "2025-05-02T22:34:15.223809Z",
     "iopub.status.busy": "2025-05-02T22:34:15.222822Z",
     "iopub.status.idle": "2025-05-02T22:34:15.555913Z",
     "shell.execute_reply": "2025-05-02T22:34:15.554895Z"
    }
   },
   "outputs": [
    {
     "name": "stdout",
     "output_type": "stream",
     "text": [
      "Number of parameters: 344\n"
     ]
    }
   ],
   "source": [
    "# Count number of parameters\n",
    "num_params = sum(p.numel() for p in model.parameters() if p.requires_grad)\n",
    "print(f\"Number of parameters: {num_params}\")"
   ]
  },
  {
   "cell_type": "code",
   "execution_count": 10,
   "metadata": {
    "execution": {
     "iopub.execute_input": "2025-05-02T22:34:15.561262Z",
     "iopub.status.busy": "2025-05-02T22:34:15.559263Z",
     "iopub.status.idle": "2025-05-02T22:42:26.560724Z",
     "shell.execute_reply": "2025-05-02T22:42:26.558720Z"
    }
   },
   "outputs": [
    {
     "name": "stdout",
     "output_type": "stream",
     "text": [
      "Untrained test\n",
      "--------\n",
      "\n",
      "Epoch 0\n",
      "---------\n"
     ]
    },
    {
     "name": "stdout",
     "output_type": "stream",
     "text": [
      "Train loss: 0.25120268685743213\n"
     ]
    },
    {
     "name": "stdout",
     "output_type": "stream",
     "text": [
      "Test loss: 0.25030575796961785\n",
      "Epoch 1\n",
      "---------\n"
     ]
    },
    {
     "name": "stdout",
     "output_type": "stream",
     "text": [
      "Train loss: 0.2514491318166256\n",
      "Test loss: 0.2503865210711956\n",
      "Epoch 2\n",
      "---------\n"
     ]
    },
    {
     "name": "stdout",
     "output_type": "stream",
     "text": [
      "Train loss: 0.2511752972193062\n",
      "Test loss: 0.25032127551734445\n",
      "Epoch 3\n",
      "---------\n"
     ]
    },
    {
     "name": "stdout",
     "output_type": "stream",
     "text": [
      "Train loss: 0.2505163458548486\n",
      "Test loss: 0.25096302703022955\n",
      "Epoch 4\n",
      "---------\n"
     ]
    },
    {
     "name": "stdout",
     "output_type": "stream",
     "text": [
      "Train loss: 0.2507165180891752\n",
      "Test loss: 0.25164379701018336\n",
      "Epoch 5\n",
      "---------\n"
     ]
    },
    {
     "name": "stdout",
     "output_type": "stream",
     "text": [
      "Train loss: 0.2507518777064979\n"
     ]
    },
    {
     "name": "stdout",
     "output_type": "stream",
     "text": [
      "Test loss: 0.2559300830960274\n",
      "Epoch 6\n",
      "---------\n"
     ]
    },
    {
     "name": "stdout",
     "output_type": "stream",
     "text": [
      "Train loss: 0.2510623203217983\n"
     ]
    },
    {
     "name": "stdout",
     "output_type": "stream",
     "text": [
      "Test loss: 0.249716679751873\n",
      "Epoch 7\n",
      "---------\n"
     ]
    },
    {
     "name": "stdout",
     "output_type": "stream",
     "text": [
      "Train loss: 0.25054811175912617\n",
      "Test loss: 0.25164233028888705\n",
      "Epoch 8\n",
      "---------\n"
     ]
    },
    {
     "name": "stdout",
     "output_type": "stream",
     "text": [
      "Train loss: 0.25007307017222047\n",
      "Test loss: 0.2500858622789383\n",
      "Epoch 9\n",
      "---------\n"
     ]
    },
    {
     "name": "stdout",
     "output_type": "stream",
     "text": [
      "Train loss: 0.2504806878324598\n",
      "Test loss: 0.25241502821445466\n",
      "Epoch 10\n",
      "---------\n"
     ]
    },
    {
     "name": "stdout",
     "output_type": "stream",
     "text": [
      "Train loss: 0.2500382189452648\n",
      "Test loss: 0.2504258892685175\n",
      "Epoch 11\n",
      "---------\n"
     ]
    },
    {
     "name": "stdout",
     "output_type": "stream",
     "text": [
      "Train loss: 0.2500426472350955\n",
      "Test loss: 0.2501753240823746\n",
      "Epoch 12\n",
      "---------\n"
     ]
    },
    {
     "name": "stdout",
     "output_type": "stream",
     "text": [
      "Train loss: 0.2498577024973929\n",
      "Test loss: 0.252632759809494\n",
      "Epoch 13\n",
      "---------\n"
     ]
    },
    {
     "name": "stdout",
     "output_type": "stream",
     "text": [
      "Train loss: 0.24949970707762986\n",
      "Test loss: 0.253462138697505\n",
      "Epoch 14\n",
      "---------\n"
     ]
    },
    {
     "name": "stdout",
     "output_type": "stream",
     "text": [
      "Train loss: 0.24957745109684765\n"
     ]
    },
    {
     "name": "stdout",
     "output_type": "stream",
     "text": [
      "Test loss: 0.250573643296957\n",
      "Epoch 15\n",
      "---------\n"
     ]
    },
    {
     "name": "stdout",
     "output_type": "stream",
     "text": [
      "Train loss: 0.2494325361866504\n",
      "Test loss: 0.2507943197339773\n",
      "Epoch 16\n",
      "---------\n"
     ]
    },
    {
     "name": "stdout",
     "output_type": "stream",
     "text": [
      "Train loss: 0.24973492176271975\n"
     ]
    },
    {
     "name": "stdout",
     "output_type": "stream",
     "text": [
      "Test loss: 0.25245787657797336\n",
      "Epoch 17\n",
      "---------\n"
     ]
    },
    {
     "name": "stdout",
     "output_type": "stream",
     "text": [
      "Train loss: 0.24761667794547976\n"
     ]
    },
    {
     "name": "stdout",
     "output_type": "stream",
     "text": [
      "Test loss: 0.254753873758018\n",
      "Epoch 18\n",
      "---------\n"
     ]
    },
    {
     "name": "stdout",
     "output_type": "stream",
     "text": [
      "Train loss: 0.24936473120935262\n"
     ]
    },
    {
     "name": "stdout",
     "output_type": "stream",
     "text": [
      "Test loss: 0.2516974176466465\n",
      "Epoch 19\n",
      "---------\n"
     ]
    },
    {
     "name": "stdout",
     "output_type": "stream",
     "text": [
      "Train loss: 0.24844010909087955\n",
      "Test loss: 0.25133704982697963\n",
      "Epoch 20\n",
      "---------\n"
     ]
    },
    {
     "name": "stdout",
     "output_type": "stream",
     "text": [
      "Train loss: 0.24775708564557136\n",
      "Test loss: 0.2510227194428444\n",
      "Epoch 21\n",
      "---------\n"
     ]
    },
    {
     "name": "stdout",
     "output_type": "stream",
     "text": [
      "Train loss: 0.24649575719609856\n"
     ]
    },
    {
     "name": "stdout",
     "output_type": "stream",
     "text": [
      "Test loss: 0.26307248301804065\n",
      "Epoch 22\n",
      "---------\n"
     ]
    },
    {
     "name": "stdout",
     "output_type": "stream",
     "text": [
      "Train loss: 0.24880647137761117\n"
     ]
    },
    {
     "name": "stdout",
     "output_type": "stream",
     "text": [
      "Test loss: 0.2516558729857206\n",
      "Epoch 23\n",
      "---------\n"
     ]
    },
    {
     "name": "stdout",
     "output_type": "stream",
     "text": [
      "Train loss: 0.24752564988099038\n",
      "Test loss: 0.26229876317083833\n",
      "Epoch 24\n",
      "---------\n"
     ]
    },
    {
     "name": "stdout",
     "output_type": "stream",
     "text": [
      "Train loss: 0.24673888528719545\n",
      "Test loss: 0.25013554975390434\n",
      "Epoch 25\n",
      "---------\n"
     ]
    },
    {
     "name": "stdout",
     "output_type": "stream",
     "text": [
      "Train loss: 0.24614831197541207\n",
      "Test loss: 0.2512682206183672\n",
      "Epoch 26\n",
      "---------\n"
     ]
    },
    {
     "name": "stdout",
     "output_type": "stream",
     "text": [
      "Train loss: 0.2469701583404094\n",
      "Test loss: 0.25380903366953134\n",
      "Epoch 27\n",
      "---------\n"
     ]
    },
    {
     "name": "stdout",
     "output_type": "stream",
     "text": [
      "Train loss: 0.24668607711791993\n",
      "Test loss: 0.2530983207374811\n",
      "Epoch 28\n",
      "---------\n"
     ]
    },
    {
     "name": "stdout",
     "output_type": "stream",
     "text": [
      "Train loss: 0.24515780361369252\n",
      "Test loss: 0.2519659644365311\n",
      "Epoch 29\n",
      "---------\n"
     ]
    },
    {
     "name": "stdout",
     "output_type": "stream",
     "text": [
      "Train loss: 0.24745530962012707\n",
      "Test loss: 0.2523398992419243\n",
      "Epoch 30\n",
      "---------\n"
     ]
    },
    {
     "name": "stdout",
     "output_type": "stream",
     "text": [
      "Train loss: 0.24644664587453008\n",
      "Test loss: 0.2522270977497101\n",
      "Epoch 31\n",
      "---------\n"
     ]
    },
    {
     "name": "stdout",
     "output_type": "stream",
     "text": [
      "Train loss: 0.24699068349786102\n"
     ]
    },
    {
     "name": "stdout",
     "output_type": "stream",
     "text": [
      "Test loss: 0.25307694494724275\n",
      "Epoch 32\n",
      "---------\n"
     ]
    },
    {
     "name": "stdout",
     "output_type": "stream",
     "text": [
      "Train loss: 0.2473895381158218\n",
      "Test loss: 0.254837888777256\n",
      "Epoch 33\n",
      "---------\n"
     ]
    },
    {
     "name": "stdout",
     "output_type": "stream",
     "text": [
      "Train loss: 0.2447945292852819\n",
      "Test loss: 0.26626103749498725\n",
      "Epoch 34\n",
      "---------\n"
     ]
    },
    {
     "name": "stdout",
     "output_type": "stream",
     "text": [
      "Train loss: 0.24617316087242216\n",
      "Test loss: 0.25718148443847894\n",
      "Epoch 35\n",
      "---------\n"
     ]
    },
    {
     "name": "stdout",
     "output_type": "stream",
     "text": [
      "Train loss: 0.24537855916889384\n",
      "Test loss: 0.25525753494352105\n",
      "Epoch 36\n",
      "---------\n"
     ]
    },
    {
     "name": "stdout",
     "output_type": "stream",
     "text": [
      "Train loss: 0.24583286833018064\n",
      "Test loss: 0.25490972116589544\n",
      "Epoch 37\n",
      "---------\n"
     ]
    },
    {
     "name": "stdout",
     "output_type": "stream",
     "text": [
      "Train loss: 0.24575888358522208\n",
      "Test loss: 0.25651490829885004\n",
      "Epoch 38\n",
      "---------\n"
     ]
    },
    {
     "name": "stdout",
     "output_type": "stream",
     "text": [
      "Train loss: 0.24517538563814015\n",
      "Test loss: 0.2624538011476398\n",
      "Epoch 39\n",
      "---------\n"
     ]
    },
    {
     "name": "stdout",
     "output_type": "stream",
     "text": [
      "Train loss: 0.24499524801271036\n",
      "Test loss: 0.26274260975420477\n",
      "Epoch 40\n",
      "---------\n"
     ]
    },
    {
     "name": "stdout",
     "output_type": "stream",
     "text": [
      "Train loss: 0.24396075922762975\n"
     ]
    },
    {
     "name": "stdout",
     "output_type": "stream",
     "text": [
      "Test loss: 0.26018099661916494\n",
      "Epoch 41\n",
      "---------\n"
     ]
    },
    {
     "name": "stdout",
     "output_type": "stream",
     "text": [
      "Train loss: 0.24315055740182287\n"
     ]
    },
    {
     "name": "stdout",
     "output_type": "stream",
     "text": [
      "Test loss: 0.25774680405855177\n",
      "Epoch 42\n",
      "---------\n"
     ]
    },
    {
     "name": "stdout",
     "output_type": "stream",
     "text": [
      "Train loss: 0.242348452094011\n"
     ]
    },
    {
     "name": "stdout",
     "output_type": "stream",
     "text": [
      "Test loss: 0.2683956528455019\n",
      "Epoch 43\n",
      "---------\n"
     ]
    },
    {
     "name": "stdout",
     "output_type": "stream",
     "text": [
      "Train loss: 0.24209899803390728\n",
      "Test loss: 0.2636679148674011\n",
      "Epoch 44\n",
      "---------\n"
     ]
    },
    {
     "name": "stdout",
     "output_type": "stream",
     "text": [
      "Train loss: 0.24141879103844985\n"
     ]
    },
    {
     "name": "stdout",
     "output_type": "stream",
     "text": [
      "Test loss: 0.26215124886482954\n",
      "Epoch 45\n",
      "---------\n"
     ]
    },
    {
     "name": "stdout",
     "output_type": "stream",
     "text": [
      "Train loss: 0.24162901506759227\n"
     ]
    },
    {
     "name": "stdout",
     "output_type": "stream",
     "text": [
      "Test loss: 0.25672582592815163\n",
      "Epoch 46\n",
      "---------\n"
     ]
    },
    {
     "name": "stdout",
     "output_type": "stream",
     "text": [
      "Train loss: 0.2411543939926196\n",
      "Test loss: 0.26000979721546175\n",
      "Epoch 47\n",
      "---------\n"
     ]
    },
    {
     "name": "stdout",
     "output_type": "stream",
     "text": [
      "Train loss: 0.24106647562468425\n",
      "Test loss: 0.26612579808570447\n",
      "Epoch 48\n",
      "---------\n"
     ]
    },
    {
     "name": "stdout",
     "output_type": "stream",
     "text": [
      "Train loss: 0.24083877681230662\n",
      "Test loss: 0.26529624361544846\n",
      "Epoch 49\n",
      "---------\n"
     ]
    },
    {
     "name": "stdout",
     "output_type": "stream",
     "text": [
      "Train loss: 0.24058737598126753\n",
      "Test loss: 0.26260981284081936\n",
      "Epoch 50\n",
      "---------\n"
     ]
    },
    {
     "name": "stdout",
     "output_type": "stream",
     "text": [
      "Train loss: 0.2380454397277208\n",
      "Test loss: 0.26562541956081986\n",
      "Epoch 51\n",
      "---------\n"
     ]
    },
    {
     "name": "stdout",
     "output_type": "stream",
     "text": [
      "Train loss: 0.23664799956837668\n",
      "Test loss: 0.2752452039532363\n",
      "Epoch 52\n",
      "---------\n"
     ]
    },
    {
     "name": "stdout",
     "output_type": "stream",
     "text": [
      "Train loss: 0.23663965943153017\n",
      "Test loss: 0.2679105974547565\n",
      "Epoch 53\n",
      "---------\n"
     ]
    },
    {
     "name": "stdout",
     "output_type": "stream",
     "text": [
      "Train loss: 0.2362055375642376\n",
      "Test loss: 0.2615010851435363\n",
      "Epoch 54\n",
      "---------\n"
     ]
    },
    {
     "name": "stdout",
     "output_type": "stream",
     "text": [
      "Train loss: 0.2379013711254811\n",
      "Test loss: 0.25958140056580303\n",
      "Epoch 55\n",
      "---------\n"
     ]
    },
    {
     "name": "stdout",
     "output_type": "stream",
     "text": [
      "Train loss: 0.23744611955597064\n"
     ]
    },
    {
     "name": "stdout",
     "output_type": "stream",
     "text": [
      "Test loss: 0.2631636421009898\n",
      "Epoch 56\n",
      "---------\n"
     ]
    },
    {
     "name": "stdout",
     "output_type": "stream",
     "text": [
      "Train loss: 0.23458182728471003\n",
      "Test loss: 0.2728107955865562\n",
      "Epoch 57\n",
      "---------\n"
     ]
    },
    {
     "name": "stdout",
     "output_type": "stream",
     "text": [
      "Train loss: 0.23355365957308094\n"
     ]
    },
    {
     "name": "stdout",
     "output_type": "stream",
     "text": [
      "Test loss: 0.27444595746695993\n",
      "Epoch 58\n",
      "---------\n"
     ]
    },
    {
     "name": "stdout",
     "output_type": "stream",
     "text": [
      "Train loss: 0.23419760263961506\n",
      "Test loss: 0.27469431589357557\n",
      "Epoch 59\n",
      "---------\n"
     ]
    },
    {
     "name": "stdout",
     "output_type": "stream",
     "text": [
      "Train loss: 0.23619282379244397\n"
     ]
    },
    {
     "name": "stdout",
     "output_type": "stream",
     "text": [
      "Test loss: 0.27416153356432915\n",
      "Epoch 60\n",
      "---------\n"
     ]
    },
    {
     "name": "stdout",
     "output_type": "stream",
     "text": [
      "Train loss: 0.2314515633667179\n",
      "Test loss: 0.2794048482272774\n",
      "Epoch 61\n",
      "---------\n"
     ]
    },
    {
     "name": "stdout",
     "output_type": "stream",
     "text": [
      "Train loss: 0.23240175331578938\n"
     ]
    },
    {
     "name": "stdout",
     "output_type": "stream",
     "text": [
      "Test loss: 0.26883198738563807\n",
      "Epoch 62\n",
      "---------\n"
     ]
    },
    {
     "name": "stdout",
     "output_type": "stream",
     "text": [
      "Train loss: 0.23155985258745204\n"
     ]
    },
    {
     "name": "stdout",
     "output_type": "stream",
     "text": [
      "Test loss: 0.2728015660122037\n",
      "Epoch 63\n",
      "---------\n"
     ]
    },
    {
     "name": "stdout",
     "output_type": "stream",
     "text": [
      "Train loss: 0.2314549262088258\n",
      "Test loss: 0.2659926677495241\n",
      "Epoch 64\n",
      "---------\n"
     ]
    },
    {
     "name": "stdout",
     "output_type": "stream",
     "text": [
      "Train loss: 0.23075312560540623\n",
      "Test loss: 0.2850015252456069\n",
      "Epoch 65\n",
      "---------\n"
     ]
    },
    {
     "name": "stdout",
     "output_type": "stream",
     "text": [
      "Train loss: 0.23155104732781184\n",
      "Test loss: 0.2840813819412142\n",
      "Epoch 66\n",
      "---------\n"
     ]
    },
    {
     "name": "stdout",
     "output_type": "stream",
     "text": [
      "Train loss: 0.22766536649105545\n",
      "Test loss: 0.29078333036974074\n",
      "Epoch 67\n",
      "---------\n"
     ]
    },
    {
     "name": "stdout",
     "output_type": "stream",
     "text": [
      "Train loss: 0.22873045660518984\n",
      "Test loss: 0.2926440499047749\n",
      "Epoch 68\n",
      "---------\n"
     ]
    },
    {
     "name": "stdout",
     "output_type": "stream",
     "text": [
      "Train loss: 0.22633319990874953\n"
     ]
    },
    {
     "name": "stdout",
     "output_type": "stream",
     "text": [
      "Test loss: 0.2840155417937785\n",
      "Epoch 69\n",
      "---------\n"
     ]
    },
    {
     "name": "stdout",
     "output_type": "stream",
     "text": [
      "Train loss: 0.223120374245118\n",
      "Test loss: 0.2853150312229991\n",
      "Epoch 70\n",
      "---------\n"
     ]
    },
    {
     "name": "stdout",
     "output_type": "stream",
     "text": [
      "Train loss: 0.2271623280536005\n",
      "Test loss: 0.3006051518721506\n",
      "Epoch 71\n",
      "---------\n"
     ]
    },
    {
     "name": "stdout",
     "output_type": "stream",
     "text": [
      "Train loss: 0.22392368778259425\n",
      "Test loss: 0.2990205669589341\n",
      "Epoch 72\n",
      "---------\n"
     ]
    },
    {
     "name": "stdout",
     "output_type": "stream",
     "text": [
      "Train loss: 0.22204858554614476\n",
      "Test loss: 0.2923450939171016\n",
      "Epoch 73\n",
      "---------\n"
     ]
    },
    {
     "name": "stdout",
     "output_type": "stream",
     "text": [
      "Train loss: 0.22299702195405188\n",
      "Test loss: 0.29717056680936366\n",
      "Epoch 74\n",
      "---------\n"
     ]
    },
    {
     "name": "stdout",
     "output_type": "stream",
     "text": [
      "Train loss: 0.2246636650203618\n",
      "Test loss: 0.2933662143256515\n",
      "Epoch 75\n",
      "---------\n"
     ]
    },
    {
     "name": "stdout",
     "output_type": "stream",
     "text": [
      "Train loss: 0.222123101168836\n"
     ]
    },
    {
     "name": "stdout",
     "output_type": "stream",
     "text": [
      "Test loss: 0.30190784216392785\n",
      "Epoch 76\n",
      "---------\n"
     ]
    },
    {
     "name": "stdout",
     "output_type": "stream",
     "text": [
      "Train loss: 0.22032381187556893\n",
      "Test loss: 0.3067437034333125\n",
      "Epoch 77\n",
      "---------\n"
     ]
    },
    {
     "name": "stdout",
     "output_type": "stream",
     "text": [
      "Train loss: 0.22019539554963558\n",
      "Test loss: 0.3145201460784301\n",
      "Epoch 78\n",
      "---------\n"
     ]
    },
    {
     "name": "stdout",
     "output_type": "stream",
     "text": [
      "Train loss: 0.22117500133316753\n"
     ]
    },
    {
     "name": "stdout",
     "output_type": "stream",
     "text": [
      "Test loss: 0.3114397046295926\n",
      "Epoch 79\n",
      "---------\n"
     ]
    },
    {
     "name": "stdout",
     "output_type": "stream",
     "text": [
      "Train loss: 0.21468811343779634\n"
     ]
    },
    {
     "name": "stdout",
     "output_type": "stream",
     "text": [
      "Test loss: 0.31295398766873406\n",
      "Epoch 80\n",
      "---------\n"
     ]
    },
    {
     "name": "stdout",
     "output_type": "stream",
     "text": [
      "Train loss: 0.21595264656741164\n"
     ]
    },
    {
     "name": "stdout",
     "output_type": "stream",
     "text": [
      "Test loss: 0.30067929756012746\n",
      "Epoch 81\n",
      "---------\n"
     ]
    },
    {
     "name": "stdout",
     "output_type": "stream",
     "text": [
      "Train loss: 0.2153622281492244\n"
     ]
    },
    {
     "name": "stdout",
     "output_type": "stream",
     "text": [
      "Test loss: 0.30797494438942524\n",
      "Epoch 82\n",
      "---------\n"
     ]
    },
    {
     "name": "stdout",
     "output_type": "stream",
     "text": [
      "Train loss: 0.2143924512639296\n",
      "Test loss: 0.3158097586454824\n",
      "Epoch 83\n",
      "---------\n"
     ]
    },
    {
     "name": "stdout",
     "output_type": "stream",
     "text": [
      "Train loss: 0.2201661190482264\n"
     ]
    },
    {
     "name": "stdout",
     "output_type": "stream",
     "text": [
      "Test loss: 0.3083248234167695\n",
      "Epoch 84\n",
      "---------\n"
     ]
    },
    {
     "name": "stdout",
     "output_type": "stream",
     "text": [
      "Train loss: 0.20979545008339756\n"
     ]
    },
    {
     "name": "stdout",
     "output_type": "stream",
     "text": [
      "Test loss: 0.32101478229742497\n",
      "Epoch 85\n",
      "---------\n"
     ]
    },
    {
     "name": "stdout",
     "output_type": "stream",
     "text": [
      "Train loss: 0.2132428873462868\n",
      "Test loss: 0.3227635453082621\n",
      "Epoch 86\n",
      "---------\n"
     ]
    },
    {
     "name": "stdout",
     "output_type": "stream",
     "text": [
      "Train loss: 0.21366751203120884\n"
     ]
    },
    {
     "name": "stdout",
     "output_type": "stream",
     "text": [
      "Test loss: 0.30139439669437706\n",
      "Epoch 87\n",
      "---------\n"
     ]
    },
    {
     "name": "stdout",
     "output_type": "stream",
     "text": [
      "Train loss: 0.20760628496071376\n",
      "Test loss: 0.32463074451894497\n",
      "Epoch 88\n",
      "---------\n"
     ]
    },
    {
     "name": "stdout",
     "output_type": "stream",
     "text": [
      "Train loss: 0.209557680899095\n",
      "Test loss: 0.3233691849850584\n",
      "Epoch 89\n",
      "---------\n"
     ]
    },
    {
     "name": "stdout",
     "output_type": "stream",
     "text": [
      "Train loss: 0.21261175249260306\n"
     ]
    },
    {
     "name": "stdout",
     "output_type": "stream",
     "text": [
      "Test loss: 0.3268398243188858\n",
      "Epoch 90\n",
      "---------\n"
     ]
    },
    {
     "name": "stdout",
     "output_type": "stream",
     "text": [
      "Train loss: 0.21198795773769916\n"
     ]
    },
    {
     "name": "stdout",
     "output_type": "stream",
     "text": [
      "Test loss: 0.33222022590693084\n",
      "Epoch 91\n",
      "---------\n"
     ]
    },
    {
     "name": "stdout",
     "output_type": "stream",
     "text": [
      "Train loss: 0.21173192018529335\n",
      "Test loss: 0.3202721070148982\n",
      "Epoch 92\n",
      "---------\n"
     ]
    },
    {
     "name": "stdout",
     "output_type": "stream",
     "text": [
      "Train loss: 0.20981807923626547\n"
     ]
    },
    {
     "name": "stdout",
     "output_type": "stream",
     "text": [
      "Test loss: 0.32617065948201346\n",
      "Epoch 93\n",
      "---------\n"
     ]
    },
    {
     "name": "stdout",
     "output_type": "stream",
     "text": [
      "Train loss: 0.2064713503119151\n"
     ]
    },
    {
     "name": "stdout",
     "output_type": "stream",
     "text": [
      "Test loss: 0.32970435513183477\n",
      "Epoch 94\n",
      "---------\n"
     ]
    },
    {
     "name": "stdout",
     "output_type": "stream",
     "text": [
      "Train loss: 0.20989244154968673\n"
     ]
    },
    {
     "name": "stdout",
     "output_type": "stream",
     "text": [
      "Test loss: 0.32961792768677695\n",
      "Epoch 95\n",
      "---------\n"
     ]
    },
    {
     "name": "stdout",
     "output_type": "stream",
     "text": [
      "Train loss: 0.2060291415746633\n",
      "Test loss: 0.3171059746458195\n",
      "Epoch 96\n",
      "---------\n"
     ]
    },
    {
     "name": "stdout",
     "output_type": "stream",
     "text": [
      "Train loss: 0.20537444585090953\n"
     ]
    },
    {
     "name": "stdout",
     "output_type": "stream",
     "text": [
      "Test loss: 0.3152329355850816\n",
      "Epoch 97\n",
      "---------\n"
     ]
    },
    {
     "name": "stdout",
     "output_type": "stream",
     "text": [
      "Train loss: 0.20993096014052184\n"
     ]
    },
    {
     "name": "stdout",
     "output_type": "stream",
     "text": [
      "Test loss: 0.3168963526538573\n",
      "Epoch 98\n",
      "---------\n"
     ]
    },
    {
     "name": "stdout",
     "output_type": "stream",
     "text": [
      "Train loss: 0.2093659592984595\n",
      "Test loss: 0.31775829903381236\n",
      "Epoch 99\n",
      "---------\n"
     ]
    },
    {
     "name": "stdout",
     "output_type": "stream",
     "text": [
      "Train loss: 0.2058026791749397\n",
      "Test loss: 0.29145747553557155\n",
      "Epoch 100\n",
      "---------\n"
     ]
    },
    {
     "name": "stdout",
     "output_type": "stream",
     "text": [
      "Train loss: 0.2088357338431615\n"
     ]
    },
    {
     "name": "stdout",
     "output_type": "stream",
     "text": [
      "Test loss: 0.3277658705902286\n",
      "Epoch 101\n",
      "---------\n"
     ]
    },
    {
     "name": "stdout",
     "output_type": "stream",
     "text": [
      "Train loss: 0.20860312673689066\n",
      "Test loss: 0.3040969067763581\n",
      "Epoch 102\n",
      "---------\n"
     ]
    },
    {
     "name": "stdout",
     "output_type": "stream",
     "text": [
      "Train loss: 0.2004843916171248\n",
      "Test loss: 0.32618245042071065\n",
      "Epoch 103\n",
      "---------\n"
     ]
    },
    {
     "name": "stdout",
     "output_type": "stream",
     "text": [
      "Train loss: 0.20505883439674732\n",
      "Test loss: 0.32139664591057227\n",
      "Epoch 104\n",
      "---------\n"
     ]
    },
    {
     "name": "stdout",
     "output_type": "stream",
     "text": [
      "Train loss: 0.20187093056510577\n",
      "Test loss: 0.31993082829711056\n",
      "Epoch 105\n",
      "---------\n"
     ]
    },
    {
     "name": "stdout",
     "output_type": "stream",
     "text": [
      "Train loss: 0.20227157304415755\n",
      "Test loss: 0.31571964049086093\n",
      "Epoch 106\n",
      "---------\n"
     ]
    },
    {
     "name": "stdout",
     "output_type": "stream",
     "text": [
      "Train loss: 0.19989476987111657\n",
      "Test loss: 0.32620624446288277\n",
      "Epoch 107\n",
      "---------\n"
     ]
    },
    {
     "name": "stdout",
     "output_type": "stream",
     "text": [
      "Train loss: 0.20217787799505316\n",
      "Test loss: 0.32045513013435994\n",
      "Epoch 108\n",
      "---------\n"
     ]
    },
    {
     "name": "stdout",
     "output_type": "stream",
     "text": [
      "Train loss: 0.20113187895174975\n",
      "Test loss: 0.3212768688815413\n",
      "Epoch 109\n",
      "---------\n"
     ]
    },
    {
     "name": "stdout",
     "output_type": "stream",
     "text": [
      "Train loss: 0.19766000122497707\n",
      "Test loss: 0.3204678154547582\n",
      "Epoch 110\n",
      "---------\n"
     ]
    },
    {
     "name": "stdout",
     "output_type": "stream",
     "text": [
      "Train loss: 0.19652735359509088\n",
      "Test loss: 0.32991024242481215\n",
      "Epoch 111\n",
      "---------\n"
     ]
    },
    {
     "name": "stdout",
     "output_type": "stream",
     "text": [
      "Train loss: 0.19339716631880732\n"
     ]
    },
    {
     "name": "stdout",
     "output_type": "stream",
     "text": [
      "Test loss: 0.3360089912236435\n",
      "Epoch 112\n",
      "---------\n"
     ]
    },
    {
     "name": "stdout",
     "output_type": "stream",
     "text": [
      "Train loss: 0.19412402151275415\n",
      "Test loss: 0.32265390109678266\n",
      "Epoch 113\n",
      "---------\n"
     ]
    },
    {
     "name": "stdout",
     "output_type": "stream",
     "text": [
      "Train loss: 0.20231007138564705\n",
      "Test loss: 0.32673814248642885\n",
      "Epoch 114\n",
      "---------\n"
     ]
    },
    {
     "name": "stdout",
     "output_type": "stream",
     "text": [
      "Train loss: 0.2012475203238597\n",
      "Test loss: 0.32279133422685846\n",
      "Epoch 115\n",
      "---------\n"
     ]
    },
    {
     "name": "stdout",
     "output_type": "stream",
     "text": [
      "Train loss: 0.20042311337390742\n",
      "Test loss: 0.3281216740465607\n",
      "Epoch 116\n",
      "---------\n"
     ]
    },
    {
     "name": "stdout",
     "output_type": "stream",
     "text": [
      "Train loss: 0.19551964591241286\n",
      "Test loss: 0.33516023396354283\n",
      "Epoch 117\n",
      "---------\n"
     ]
    },
    {
     "name": "stdout",
     "output_type": "stream",
     "text": [
      "Train loss: 0.19554002342362534\n",
      "Test loss: 0.33382867576990977\n",
      "Epoch 118\n",
      "---------\n"
     ]
    },
    {
     "name": "stdout",
     "output_type": "stream",
     "text": [
      "Train loss: 0.18750183854905958\n"
     ]
    },
    {
     "name": "stdout",
     "output_type": "stream",
     "text": [
      "Test loss: 0.33268095769818046\n",
      "Epoch 119\n",
      "---------\n"
     ]
    },
    {
     "name": "stdout",
     "output_type": "stream",
     "text": [
      "Train loss: 0.19268937229614147\n",
      "Test loss: 0.33538806430762635\n",
      "Epoch 120\n",
      "---------\n"
     ]
    },
    {
     "name": "stdout",
     "output_type": "stream",
     "text": [
      "Train loss: 0.19810985009892185\n"
     ]
    },
    {
     "name": "stdout",
     "output_type": "stream",
     "text": [
      "Test loss: 0.32234769221337045\n",
      "Epoch 121\n",
      "---------\n"
     ]
    },
    {
     "name": "stdout",
     "output_type": "stream",
     "text": [
      "Train loss: 0.1963861143671228\n",
      "Test loss: 0.3455933074055156\n",
      "Epoch 122\n",
      "---------\n"
     ]
    },
    {
     "name": "stdout",
     "output_type": "stream",
     "text": [
      "Train loss: 0.19563595741713818\n",
      "Test loss: 0.3319425939663233\n",
      "Epoch 123\n",
      "---------\n"
     ]
    },
    {
     "name": "stdout",
     "output_type": "stream",
     "text": [
      "Train loss: 0.19468397902274234\n",
      "Test loss: 0.33217283097099426\n",
      "Epoch 124\n",
      "---------\n"
     ]
    },
    {
     "name": "stdout",
     "output_type": "stream",
     "text": [
      "Train loss: 0.19036287766959162\n",
      "Test loss: 0.32623863385371804\n",
      "Epoch 125\n",
      "---------\n"
     ]
    },
    {
     "name": "stdout",
     "output_type": "stream",
     "text": [
      "Train loss: 0.19215642712303221\n",
      "Test loss: 0.344454690371349\n",
      "Epoch 126\n",
      "---------\n"
     ]
    },
    {
     "name": "stdout",
     "output_type": "stream",
     "text": [
      "Train loss: 0.18477526373310618\n",
      "Test loss: 0.3434405372057336\n",
      "Epoch 127\n",
      "---------\n"
     ]
    },
    {
     "name": "stdout",
     "output_type": "stream",
     "text": [
      "Train loss: 0.19075672283249515\n"
     ]
    },
    {
     "name": "stdout",
     "output_type": "stream",
     "text": [
      "Test loss: 0.3375428322161315\n",
      "Epoch 128\n",
      "---------\n"
     ]
    },
    {
     "name": "stdout",
     "output_type": "stream",
     "text": [
      "Train loss: 0.19143721556280727\n",
      "Test loss: 0.3248097683479409\n",
      "Epoch 129\n",
      "---------\n"
     ]
    },
    {
     "name": "stdout",
     "output_type": "stream",
     "text": [
      "Train loss: 0.18700275948445508\n",
      "Test loss: 0.3426840200239394\n",
      "Epoch 130\n",
      "---------\n"
     ]
    },
    {
     "name": "stdout",
     "output_type": "stream",
     "text": [
      "Train loss: 0.1864385379822203\n",
      "Test loss: 0.3409841819403664\n",
      "Epoch 131\n",
      "---------\n"
     ]
    },
    {
     "name": "stdout",
     "output_type": "stream",
     "text": [
      "Train loss: 0.18498343552186405\n",
      "Test loss: 0.34218982517835683\n",
      "Epoch 132\n",
      "---------\n"
     ]
    },
    {
     "name": "stdout",
     "output_type": "stream",
     "text": [
      "Train loss: 0.18437376230650138\n",
      "Test loss: 0.3288080627149611\n",
      "Epoch 133\n",
      "---------\n"
     ]
    },
    {
     "name": "stdout",
     "output_type": "stream",
     "text": [
      "Train loss: 0.1897104435144317\n",
      "Test loss: 0.3356035918799739\n",
      "Epoch 134\n",
      "---------\n"
     ]
    },
    {
     "name": "stdout",
     "output_type": "stream",
     "text": [
      "Train loss: 0.18213701300755075\n",
      "Test loss: 0.3449001635925015\n",
      "Epoch 135\n",
      "---------\n"
     ]
    },
    {
     "name": "stdout",
     "output_type": "stream",
     "text": [
      "Train loss: 0.1876358901334651\n",
      "Test loss: 0.33586103332616235\n",
      "Epoch 136\n",
      "---------\n"
     ]
    },
    {
     "name": "stdout",
     "output_type": "stream",
     "text": [
      "Train loss: 0.18062953967547418\n"
     ]
    },
    {
     "name": "stdout",
     "output_type": "stream",
     "text": [
      "Test loss: 0.33538930898270336\n",
      "Epoch 137\n",
      "---------\n"
     ]
    },
    {
     "name": "stdout",
     "output_type": "stream",
     "text": [
      "Train loss: 0.1818397302765811\n"
     ]
    },
    {
     "name": "stdout",
     "output_type": "stream",
     "text": [
      "Test loss: 0.3480511127415366\n",
      "Epoch 138\n",
      "---------\n"
     ]
    },
    {
     "name": "stdout",
     "output_type": "stream",
     "text": [
      "Train loss: 0.18190662304829414\n",
      "Test loss: 0.3400844693415365\n",
      "Epoch 139\n",
      "---------\n"
     ]
    },
    {
     "name": "stdout",
     "output_type": "stream",
     "text": [
      "Train loss: 0.19551304787992407\n",
      "Test loss: 0.3242660338861606\n",
      "Epoch 140\n",
      "---------\n"
     ]
    },
    {
     "name": "stdout",
     "output_type": "stream",
     "text": [
      "Train loss: 0.18162775008550974\n",
      "Test loss: 0.3487572838568485\n",
      "Epoch 141\n",
      "---------\n"
     ]
    },
    {
     "name": "stdout",
     "output_type": "stream",
     "text": [
      "Train loss: 0.1838627723360204\n",
      "Test loss: 0.34488330268173284\n",
      "Epoch 142\n",
      "---------\n"
     ]
    },
    {
     "name": "stdout",
     "output_type": "stream",
     "text": [
      "Train loss: 0.18053849666519525\n",
      "Test loss: 0.3457370421031374\n",
      "Epoch 143\n",
      "---------\n"
     ]
    },
    {
     "name": "stdout",
     "output_type": "stream",
     "text": [
      "Train loss: 0.17817852010852314\n",
      "Test loss: 0.3543225176373926\n",
      "Epoch 144\n",
      "---------\n"
     ]
    },
    {
     "name": "stdout",
     "output_type": "stream",
     "text": [
      "Train loss: 0.17991688508495074\n",
      "Test loss: 0.33955983416679375\n",
      "Epoch 145\n",
      "---------\n"
     ]
    },
    {
     "name": "stdout",
     "output_type": "stream",
     "text": [
      "Train loss: 0.181641991579064\n"
     ]
    },
    {
     "name": "stdout",
     "output_type": "stream",
     "text": [
      "Test loss: 0.3494594815281289\n",
      "Epoch 146\n",
      "---------\n"
     ]
    },
    {
     "name": "stdout",
     "output_type": "stream",
     "text": [
      "Train loss: 0.17840606822269803\n",
      "Test loss: 0.33534843329434805\n",
      "Epoch 147\n",
      "---------\n"
     ]
    },
    {
     "name": "stdout",
     "output_type": "stream",
     "text": [
      "Train loss: 0.1830546456718973\n",
      "Test loss: 0.3513717606930004\n",
      "Epoch 148\n",
      "---------\n"
     ]
    },
    {
     "name": "stdout",
     "output_type": "stream",
     "text": [
      "Train loss: 0.17468793549020944\n",
      "Test loss: 0.352654840895446\n",
      "Epoch 149\n",
      "---------\n"
     ]
    },
    {
     "name": "stdout",
     "output_type": "stream",
     "text": [
      "Train loss: 0.18070992375557307\n"
     ]
    },
    {
     "name": "stdout",
     "output_type": "stream",
     "text": [
      "Test loss: 0.35293359332699764\n"
     ]
    }
   ],
   "source": [
    "classical_loss_train = []\n",
    "classical_loss_test = []\n",
    "print(\"Untrained test\\n--------\")\n",
    "# test_loss = test_model(test_loader, model, loss_function)\n",
    "print()\n",
    "\n",
    "num_epochs = 150\n",
    "\n",
    "for ix_epoch in range(num_epochs):\n",
    "    print(f\"Epoch {ix_epoch}\\n---------\")\n",
    "    train_loss = train_model(train_loader, model, loss_function, optimizer=optimizer)\n",
    "    test_loss = test_model(test_loader, model, loss_function)\n",
    "    classical_loss_train.append(train_loss)\n",
    "    classical_loss_test.append(test_loss)\n",
    "   \n"
   ]
  },
  {
   "cell_type": "code",
   "execution_count": 11,
   "metadata": {
    "execution": {
     "iopub.execute_input": "2025-05-02T22:42:26.567719Z",
     "iopub.status.busy": "2025-05-02T22:42:26.565721Z",
     "iopub.status.idle": "2025-05-02T22:42:30.298040Z",
     "shell.execute_reply": "2025-05-02T22:42:30.297038Z"
    }
   },
   "outputs": [],
   "source": [
    "train_eval_loader = DataLoader(train_dataset, batch_size=batch_size, shuffle=False)\n",
    "test_eval_loader = DataLoader(test_dataset, batch_size=batch_size, shuffle=False)\n",
    "\n",
    "ystar_col_Q = \"Model Forecast\"\n",
    "df_train[ystar_col_Q] = predict(train_eval_loader, model).numpy()\n",
    "df_test[ystar_col_Q] = predict(test_eval_loader, model).numpy()"
   ]
  },
  {
   "cell_type": "code",
   "execution_count": 12,
   "metadata": {
    "execution": {
     "iopub.execute_input": "2025-05-02T22:42:30.304039Z",
     "iopub.status.busy": "2025-05-02T22:42:30.303039Z",
     "iopub.status.idle": "2025-05-02T22:42:32.290049Z",
     "shell.execute_reply": "2025-05-02T22:42:32.288043Z"
    }
   },
   "outputs": [
    {
     "name": "stderr",
     "output_type": "stream",
     "text": [
      "C:\\Users\\LENOVO\\AppData\\Local\\Temp\\ipykernel_14204\\427244752.py:9: UserWarning: FigureCanvasAgg is non-interactive, and thus cannot be shown\n",
      "  plt.show()\n"
     ]
    }
   ],
   "source": [
    "import matplotlib.pyplot as plt\n",
    "\n",
    "plt.figure(figsize=(12, 7))\n",
    "plt.plot(range(len(df_test)), df_test['Mutation_Label'], label=\"Real Data\")\n",
    "plt.plot(range(len(df_test)), df_test[\"Model Forecast\"], label=\"LSTM Test Prediction\")\n",
    "plt.ylabel('Mutation Label')\n",
    "plt.xlabel('Samples')\n",
    "plt.legend()\n",
    "plt.show()\n"
   ]
  },
  {
   "cell_type": "code",
   "execution_count": 13,
   "metadata": {
    "execution": {
     "iopub.execute_input": "2025-05-02T22:42:32.296045Z",
     "iopub.status.busy": "2025-05-02T22:42:32.295045Z",
     "iopub.status.idle": "2025-05-02T22:42:32.974843Z",
     "shell.execute_reply": "2025-05-02T22:42:32.972845Z"
    }
   },
   "outputs": [
    {
     "data": {
      "text/plain": [
       "<matplotlib.legend.Legend at 0x1ef518803b0>"
      ]
     },
     "execution_count": 13,
     "metadata": {},
     "output_type": "execute_result"
    }
   ],
   "source": [
    "plt.plot(classical_loss_train, label='classical_loss_train')\n",
    "# plt.plot(classical_loss_test, label='classical_loss_test')\n",
    "pd.DataFrame(classical_loss_train).to_csv('LSTM_loss.csv', index=False)\n",
    "plt.title('Train loss')\n",
    "plt.legend()"
   ]
  },
  {
   "cell_type": "code",
   "execution_count": 14,
   "metadata": {
    "execution": {
     "iopub.execute_input": "2025-05-02T22:42:32.981841Z",
     "iopub.status.busy": "2025-05-02T22:42:32.980841Z",
     "iopub.status.idle": "2025-05-02T22:42:33.893596Z",
     "shell.execute_reply": "2025-05-02T22:42:33.892593Z"
    }
   },
   "outputs": [
    {
     "name": "stdout",
     "output_type": "stream",
     "text": [
      "Train RMSE: 0.41499039308504765\n",
      "Test RMSE: 0.5940821371189074\n"
     ]
    }
   ],
   "source": [
    "import math\n",
    "from sklearn.metrics import mean_squared_error\n",
    "\n",
    "# Calculate RMSE between actual and predicted mutation values\n",
    "train_rmse = math.sqrt(mean_squared_error(df_train[\"Mutation_Label\"], df_train[\"Model Forecast\"]))\n",
    "test_rmse = math.sqrt(mean_squared_error(df_test[\"Mutation_Label\"], df_test[\"Model Forecast\"]))\n",
    "\n",
    "print(f\"Train RMSE: {train_rmse}\")\n",
    "print(f\"Test RMSE: {test_rmse}\")\n"
   ]
  },
  {
   "cell_type": "code",
   "execution_count": 15,
   "metadata": {
    "execution": {
     "iopub.execute_input": "2025-05-02T22:42:33.901593Z",
     "iopub.status.busy": "2025-05-02T22:42:33.900593Z",
     "iopub.status.idle": "2025-05-02T22:42:34.611745Z",
     "shell.execute_reply": "2025-05-02T22:42:34.609741Z"
    }
   },
   "outputs": [
    {
     "name": "stdout",
     "output_type": "stream",
     "text": [
      "Train accuracy: 0.1750\n",
      "Test accuracy: 0.0650\n"
     ]
    }
   ],
   "source": [
    "import numpy as np  # ✅ Make sure this is included\n",
    "\n",
    "# Calculate the accuracy of the model (tolerance = 0.1)\n",
    "def accuracy(y, y_star):\n",
    "    return np.mean(np.abs(y - y_star) < 0.1)\n",
    "\n",
    "train_accuracy = accuracy(df_train[\"Mutation_Label\"], df_train[\"Model Forecast\"])\n",
    "test_accuracy = accuracy(df_test[\"Mutation_Label\"], df_test[\"Model Forecast\"])\n",
    "\n",
    "print(f\"Train accuracy: {train_accuracy:.4f}\")\n",
    "print(f\"Test accuracy: {test_accuracy:.4f}\")\n"
   ]
  },
  {
   "cell_type": "code",
   "execution_count": 16,
   "metadata": {
    "execution": {
     "iopub.execute_input": "2025-05-02T22:42:34.618740Z",
     "iopub.status.busy": "2025-05-02T22:42:34.617740Z",
     "iopub.status.idle": "2025-05-02T22:42:35.199761Z",
     "shell.execute_reply": "2025-05-02T22:42:35.198746Z"
    }
   },
   "outputs": [],
   "source": [
    "import torch\n",
    "\n",
    "features = [\"Encoded_Sequence\", \"Geo_Location\", \"Body_Temperature\"]  # example: adjust as needed\n",
    "feature_tensors = []\n",
    "\n",
    "sequence_length = len(df_test.iloc[0][\"Encoded_Sequence\"])\n",
    "batch_size = len(df_test)\n",
    "\n",
    "for feature in features:\n",
    "    if feature == \"Encoded_Sequence\":\n",
    "        tensor = torch.tensor(df_test[feature].tolist(), dtype=torch.float32)  # shape: (batch, seq_len)\n",
    "    else:\n",
    "        # Scalar feature: (batch, 1) → repeat along sequence_length to match (batch, seq_len)\n",
    "        scalar_vals = df_test[feature].values.reshape(-1, 1)\n",
    "        tensor = torch.tensor(scalar_vals, dtype=torch.float32).repeat(1, sequence_length)\n",
    "    \n",
    "    feature_tensors.append(tensor.unsqueeze(-1))  # shape: (batch, seq_len, 1)\n",
    "\n",
    "# Concatenate along last dimension: final shape (batch, seq_len, num_features)\n",
    "X_test_tensor = torch.cat(feature_tensors, dim=2)\n",
    "\n",
    "# Target tensor\n",
    "y_test_tensor = torch.tensor(df_test[\"Mutation_Label\"].values, dtype=torch.float32)\n"
   ]
  },
  {
   "cell_type": "code",
   "execution_count": 17,
   "metadata": {
    "execution": {
     "iopub.execute_input": "2025-05-02T22:42:35.204759Z",
     "iopub.status.busy": "2025-05-02T22:42:35.203758Z",
     "iopub.status.idle": "2025-05-02T22:42:35.563089Z",
     "shell.execute_reply": "2025-05-02T22:42:35.561086Z"
    }
   },
   "outputs": [
    {
     "name": "stdout",
     "output_type": "stream",
     "text": [
      "X_test_tensor shape: torch.Size([200, 100, 3])\n",
      "Model expected input size: 3\n"
     ]
    }
   ],
   "source": [
    "print(\"X_test_tensor shape:\", X_test_tensor.shape)\n",
    "print(\"Model expected input size:\", model.lstm.input_size)\n"
   ]
  },
  {
   "cell_type": "code",
   "execution_count": 18,
   "metadata": {
    "execution": {
     "iopub.execute_input": "2025-05-02T22:42:35.567086Z",
     "iopub.status.busy": "2025-05-02T22:42:35.566087Z",
     "iopub.status.idle": "2025-05-02T22:42:36.231739Z",
     "shell.execute_reply": "2025-05-02T22:42:36.230734Z"
    }
   },
   "outputs": [
    {
     "name": "stdout",
     "output_type": "stream",
     "text": [
      "✅ Saved mutation classical prediction summary to classical_mutation_prediction_summary.csv\n"
     ]
    }
   ],
   "source": [
    "import torch\n",
    "\n",
    "model.eval()\n",
    "prediction_scores = []\n",
    "\n",
    "sequence_length = len(df_test.iloc[0][\"Encoded_Sequence\"])\n",
    "\n",
    "with torch.no_grad():\n",
    "    for i in range(len(df_test)):\n",
    "        seq = torch.tensor(df_test.iloc[i][\"Encoded_Sequence\"], dtype=torch.float32).view(1, sequence_length, 1)\n",
    "        temp = torch.tensor([df_test.iloc[i][\"Body_Temperature\"]], dtype=torch.float32).repeat(sequence_length).view(1, sequence_length, 1)\n",
    "        geo = torch.tensor([df_test.iloc[i][\"Geo_Location\"]], dtype=torch.float32).repeat(sequence_length).view(1, sequence_length, 1)\n",
    "\n",
    "        x_input = torch.cat([seq, geo, temp], dim=2)  # Shape: (1, seq_len, 3)\n",
    "\n",
    "        prediction = model(x_input).item()\n",
    "        prediction_scores.append(prediction * 100)  # Convert to percentage\n",
    "\n",
    "# Prepare final dataframe\n",
    "output_df = pd.DataFrame({\n",
    "    \"Data_No\": range(len(df_test)),\n",
    "    \"Mutation_Label\": df_test[\"Mutation_Label\"].values,\n",
    "    \"Predicted_Percentage\": prediction_scores\n",
    "})\n",
    "\n",
    "output_df.to_csv(\"mutation_prediction_summary.csv\", index=False)\n",
    "print(\"✅ Saved mutation classical prediction summary to classical_mutation_prediction_summary.csv\")\n"
   ]
  },
  {
   "cell_type": "code",
   "execution_count": 19,
   "metadata": {
    "execution": {
     "iopub.execute_input": "2025-05-02T22:42:36.236734Z",
     "iopub.status.busy": "2025-05-02T22:42:36.235733Z",
     "iopub.status.idle": "2025-05-02T22:42:36.602921Z",
     "shell.execute_reply": "2025-05-02T22:42:36.601914Z"
    }
   },
   "outputs": [
    {
     "name": "stdout",
     "output_type": "stream",
     "text": [
      "X_test_tensor shape: torch.Size([200, 100, 3])\n",
      "Model expected input_size: 3\n"
     ]
    }
   ],
   "source": [
    "print(\"X_test_tensor shape:\", X_test_tensor.shape)\n",
    "print(\"Model expected input_size:\", model.lstm.input_size)\n"
   ]
  }
 ],
 "metadata": {
  "kernelspec": {
   "display_name": "qlstm_env",
   "language": "python",
   "name": "python3"
  },
  "language_info": {
   "codemirror_mode": {
    "name": "ipython",
    "version": 3
   },
   "file_extension": ".py",
   "mimetype": "text/x-python",
   "name": "python",
   "nbconvert_exporter": "python",
   "pygments_lexer": "ipython3",
   "version": "3.12.7"
  }
 },
 "nbformat": 4,
 "nbformat_minor": 2
}
