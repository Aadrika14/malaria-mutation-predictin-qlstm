{
 "cells": [
  {
   "cell_type": "markdown",
   "id": "fab0cd37",
   "metadata": {},
   "source": [
    "# 🧬 SVM Mutation Prediction\n",
    "This notebook performs mutation label prediction using a classical Support Vector Machine (SVM) algorithm."
   ]
  },
  {
   "cell_type": "code",
   "execution_count": null,
   "id": "b828a681",
   "metadata": {},
   "outputs": [],
   "source": [
    "import pandas as pd\n",
    "import numpy as np\n",
    "import ast\n",
    "import matplotlib.pyplot as plt\n",
    "from sklearn.model_selection import train_test_split\n",
    "from sklearn.preprocessing import StandardScaler\n",
    "from sklearn.svm import SVC\n",
    "from sklearn.metrics import accuracy_score, confusion_matrix, ConfusionMatrixDisplay"
   ]
  },
  {
   "cell_type": "code",
   "execution_count": null,
   "id": "984978a2",
   "metadata": {},
   "outputs": [],
   "source": [
    "# Load dataset\n",
    "df = pd.read_csv('final_combined_mutation_dataset.csv')\n",
    "df.head()"
   ]
  },
  {
   "cell_type": "code",
   "execution_count": null,
   "id": "6f61fb6c",
   "metadata": {},
   "outputs": [],
   "source": [
    "# Preprocess: fix Encoded_Sequence and clean column names\n",
    "df.columns = [col.strip().lower() for col in df.columns]  # normalize column names\n",
    "\n",
    "# Convert 'encoded_sequence' from string to list, then expand into columns\n",
    "df['encoded_sequence'] = df['encoded_sequence'].apply(ast.literal_eval)\n",
    "sequence_df = df['encoded_sequence'].apply(pd.Series)\n",
    "sequence_df.columns = [f'encoded_sequence_{i}' for i in range(sequence_df.shape[1])]\n",
    "\n",
    "# Final dataset\n",
    "df = pd.concat([df.drop(columns=['encoded_sequence']), sequence_df], axis=1)\n",
    "df.head()"
   ]
  },
  {
   "cell_type": "code",
   "execution_count": null,
   "id": "140968cf",
   "metadata": {},
   "outputs": [],
   "source": [
    "# Features and target\n",
    "X = df.drop('mutation_label', axis=1)\n",
    "y = df['mutation_label']"
   ]
  },
  {
   "cell_type": "code",
   "execution_count": null,
   "id": "508cf4d1",
   "metadata": {},
   "outputs": [],
   "source": [
    "# Train-test split and normalization\n",
    "X_train, X_test, y_train, y_test = train_test_split(X, y, test_size=0.3, random_state=42)\n",
    "scaler = StandardScaler()\n",
    "X_train_scaled = scaler.fit_transform(X_train)\n",
    "X_test_scaled = scaler.transform(X_test)"
   ]
  },
  {
   "cell_type": "code",
   "execution_count": null,
   "id": "204e617c",
   "metadata": {},
   "outputs": [],
   "source": [
    "# Train SVM classifier\n",
    "svm_model = SVC(kernel='rbf', C=1.0, gamma='scale')\n",
    "svm_model.fit(X_train_scaled, y_train)"
   ]
  },
  {
   "cell_type": "code",
   "execution_count": null,
   "id": "05e20e05",
   "metadata": {},
   "outputs": [],
   "source": [
    "# Predict and evaluate\n",
    "y_pred = svm_model.predict(X_test_scaled)\n",
    "acc = accuracy_score(y_test, y_pred)\n",
    "print(f'SVM Test Accuracy: {acc:.4f}')"
   ]
  },
  {
   "cell_type": "code",
   "execution_count": null,
   "id": "2536db72",
   "metadata": {},
   "outputs": [],
   "source": [
    "# Confusion Matrix\n",
    "cm = confusion_matrix(y_test, y_pred)\n",
    "disp = ConfusionMatrixDisplay(confusion_matrix=cm, display_labels=[0, 1])\n",
    "disp.plot(cmap='Blues')\n",
    "plt.title('Confusion Matrix - SVM')\n",
    "plt.show()"
   ]
  },
  {
   "cell_type": "code",
   "execution_count": null,
   "id": "0c30a03d",
   "metadata": {},
   "outputs": [],
   "source": [
    "# Save predictions to CSV\n",
    "pred_df = pd.DataFrame({\n",
    "    'True_Label': y_test.values,\n",
    "    'Predicted_Label': y_pred\n",
    "})\n",
    "pred_df.to_csv('svm_mutation_predictions.csv', index=False)\n",
    "print('Predictions saved to svm_mutation_predictions.csv')"
   ]
  }
 ],
 "metadata": {},
 "nbformat": 4,
 "nbformat_minor": 5
}
